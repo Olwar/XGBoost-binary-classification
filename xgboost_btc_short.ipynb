{
 "cells": [
  {
   "cell_type": "markdown",
   "id": "2cf6792d",
   "metadata": {},
   "source": [
    "# Predicting Short Positions using XGBoost"
   ]
  },
  {
   "cell_type": "markdown",
   "id": "d31de9b4",
   "metadata": {},
   "source": [
    "I have collected 2859 datapoints (days) from BTC/USD using yfinance to collect historical prices and then calculated several technical indicators from those prices using pandas_ta. Let's download that data."
   ]
  },
  {
   "cell_type": "code",
   "execution_count": 173,
   "id": "5a6a5468",
   "metadata": {},
   "outputs": [
    {
     "data": {
      "text/html": [
       "<div>\n",
       "<style scoped>\n",
       "    .dataframe tbody tr th:only-of-type {\n",
       "        vertical-align: middle;\n",
       "    }\n",
       "\n",
       "    .dataframe tbody tr th {\n",
       "        vertical-align: top;\n",
       "    }\n",
       "\n",
       "    .dataframe thead th {\n",
       "        text-align: right;\n",
       "    }\n",
       "</style>\n",
       "<table border=\"1\" class=\"dataframe\">\n",
       "  <thead>\n",
       "    <tr style=\"text-align: right;\">\n",
       "      <th></th>\n",
       "      <th>id</th>\n",
       "      <th>name</th>\n",
       "      <th>date</th>\n",
       "      <th>high</th>\n",
       "      <th>low</th>\n",
       "      <th>close</th>\n",
       "      <th>adx</th>\n",
       "      <th>dmp</th>\n",
       "      <th>dmn</th>\n",
       "      <th>rsi</th>\n",
       "      <th>slowd</th>\n",
       "      <th>slowk</th>\n",
       "      <th>target</th>\n",
       "    </tr>\n",
       "  </thead>\n",
       "  <tbody>\n",
       "    <tr>\n",
       "      <th>0</th>\n",
       "      <td>1</td>\n",
       "      <td>BTC-USD</td>\n",
       "      <td>2014-09-17</td>\n",
       "      <td>468.174011</td>\n",
       "      <td>452.421997</td>\n",
       "      <td>457.334015</td>\n",
       "      <td>NaN</td>\n",
       "      <td>NaN</td>\n",
       "      <td>NaN</td>\n",
       "      <td>NaN</td>\n",
       "      <td>NaN</td>\n",
       "      <td>NaN</td>\n",
       "      <td>NaN</td>\n",
       "    </tr>\n",
       "    <tr>\n",
       "      <th>1</th>\n",
       "      <td>2</td>\n",
       "      <td>BTC-USD</td>\n",
       "      <td>2014-09-18</td>\n",
       "      <td>456.859985</td>\n",
       "      <td>413.104004</td>\n",
       "      <td>424.440002</td>\n",
       "      <td>NaN</td>\n",
       "      <td>NaN</td>\n",
       "      <td>NaN</td>\n",
       "      <td>NaN</td>\n",
       "      <td>NaN</td>\n",
       "      <td>NaN</td>\n",
       "      <td>NaN</td>\n",
       "    </tr>\n",
       "    <tr>\n",
       "      <th>2</th>\n",
       "      <td>3</td>\n",
       "      <td>BTC-USD</td>\n",
       "      <td>2014-09-19</td>\n",
       "      <td>427.834991</td>\n",
       "      <td>384.532013</td>\n",
       "      <td>394.795990</td>\n",
       "      <td>NaN</td>\n",
       "      <td>NaN</td>\n",
       "      <td>NaN</td>\n",
       "      <td>NaN</td>\n",
       "      <td>NaN</td>\n",
       "      <td>NaN</td>\n",
       "      <td>NaN</td>\n",
       "    </tr>\n",
       "    <tr>\n",
       "      <th>3</th>\n",
       "      <td>4</td>\n",
       "      <td>BTC-USD</td>\n",
       "      <td>2014-09-20</td>\n",
       "      <td>423.295990</td>\n",
       "      <td>389.882996</td>\n",
       "      <td>408.903992</td>\n",
       "      <td>NaN</td>\n",
       "      <td>NaN</td>\n",
       "      <td>NaN</td>\n",
       "      <td>NaN</td>\n",
       "      <td>NaN</td>\n",
       "      <td>NaN</td>\n",
       "      <td>NaN</td>\n",
       "    </tr>\n",
       "    <tr>\n",
       "      <th>4</th>\n",
       "      <td>5</td>\n",
       "      <td>BTC-USD</td>\n",
       "      <td>2014-09-21</td>\n",
       "      <td>412.425995</td>\n",
       "      <td>393.181000</td>\n",
       "      <td>398.821014</td>\n",
       "      <td>NaN</td>\n",
       "      <td>NaN</td>\n",
       "      <td>NaN</td>\n",
       "      <td>NaN</td>\n",
       "      <td>NaN</td>\n",
       "      <td>NaN</td>\n",
       "      <td>NaN</td>\n",
       "    </tr>\n",
       "    <tr>\n",
       "      <th>...</th>\n",
       "      <td>...</td>\n",
       "      <td>...</td>\n",
       "      <td>...</td>\n",
       "      <td>...</td>\n",
       "      <td>...</td>\n",
       "      <td>...</td>\n",
       "      <td>...</td>\n",
       "      <td>...</td>\n",
       "      <td>...</td>\n",
       "      <td>...</td>\n",
       "      <td>...</td>\n",
       "      <td>...</td>\n",
       "      <td>...</td>\n",
       "    </tr>\n",
       "    <tr>\n",
       "      <th>2854</th>\n",
       "      <td>2855</td>\n",
       "      <td>BTC-USD</td>\n",
       "      <td>2022-07-11</td>\n",
       "      <td>20856.353516</td>\n",
       "      <td>19924.539062</td>\n",
       "      <td>19970.556641</td>\n",
       "      <td>30.962022</td>\n",
       "      <td>20.426220</td>\n",
       "      <td>29.580145</td>\n",
       "      <td>37.981174</td>\n",
       "      <td>72.849592</td>\n",
       "      <td>57.961397</td>\n",
       "      <td>0.0</td>\n",
       "    </tr>\n",
       "    <tr>\n",
       "      <th>2855</th>\n",
       "      <td>2856</td>\n",
       "      <td>BTC-USD</td>\n",
       "      <td>2022-07-12</td>\n",
       "      <td>20043.445312</td>\n",
       "      <td>19308.531250</td>\n",
       "      <td>19323.914062</td>\n",
       "      <td>30.514055</td>\n",
       "      <td>19.442789</td>\n",
       "      <td>32.191568</td>\n",
       "      <td>34.901621</td>\n",
       "      <td>56.387890</td>\n",
       "      <td>36.872485</td>\n",
       "      <td>0.0</td>\n",
       "    </tr>\n",
       "    <tr>\n",
       "      <th>2856</th>\n",
       "      <td>2857</td>\n",
       "      <td>BTC-USD</td>\n",
       "      <td>2022-07-13</td>\n",
       "      <td>20223.052734</td>\n",
       "      <td>18999.953125</td>\n",
       "      <td>20212.074219</td>\n",
       "      <td>30.315716</td>\n",
       "      <td>17.898325</td>\n",
       "      <td>31.638502</td>\n",
       "      <td>41.872859</td>\n",
       "      <td>41.892752</td>\n",
       "      <td>30.844373</td>\n",
       "      <td>0.0</td>\n",
       "    </tr>\n",
       "    <tr>\n",
       "      <th>2857</th>\n",
       "      <td>2858</td>\n",
       "      <td>BTC-USD</td>\n",
       "      <td>2022-07-14</td>\n",
       "      <td>20789.894531</td>\n",
       "      <td>19689.257812</td>\n",
       "      <td>20569.919922</td>\n",
       "      <td>29.455416</td>\n",
       "      <td>20.300227</td>\n",
       "      <td>29.377016</td>\n",
       "      <td>44.453830</td>\n",
       "      <td>34.327923</td>\n",
       "      <td>35.266910</td>\n",
       "      <td>0.0</td>\n",
       "    </tr>\n",
       "    <tr>\n",
       "      <th>2858</th>\n",
       "      <td>2859</td>\n",
       "      <td>BTC-USD</td>\n",
       "      <td>2022-07-16</td>\n",
       "      <td>20847.093750</td>\n",
       "      <td>20520.796875</td>\n",
       "      <td>20625.558594</td>\n",
       "      <td>28.589080</td>\n",
       "      <td>20.238414</td>\n",
       "      <td>28.721566</td>\n",
       "      <td>44.863757</td>\n",
       "      <td>37.455562</td>\n",
       "      <td>46.255403</td>\n",
       "      <td>NaN</td>\n",
       "    </tr>\n",
       "  </tbody>\n",
       "</table>\n",
       "<p>2859 rows × 13 columns</p>\n",
       "</div>"
      ],
      "text/plain": [
       "        id     name        date          high           low         close  \\\n",
       "0        1  BTC-USD  2014-09-17    468.174011    452.421997    457.334015   \n",
       "1        2  BTC-USD  2014-09-18    456.859985    413.104004    424.440002   \n",
       "2        3  BTC-USD  2014-09-19    427.834991    384.532013    394.795990   \n",
       "3        4  BTC-USD  2014-09-20    423.295990    389.882996    408.903992   \n",
       "4        5  BTC-USD  2014-09-21    412.425995    393.181000    398.821014   \n",
       "...    ...      ...         ...           ...           ...           ...   \n",
       "2854  2855  BTC-USD  2022-07-11  20856.353516  19924.539062  19970.556641   \n",
       "2855  2856  BTC-USD  2022-07-12  20043.445312  19308.531250  19323.914062   \n",
       "2856  2857  BTC-USD  2022-07-13  20223.052734  18999.953125  20212.074219   \n",
       "2857  2858  BTC-USD  2022-07-14  20789.894531  19689.257812  20569.919922   \n",
       "2858  2859  BTC-USD  2022-07-16  20847.093750  20520.796875  20625.558594   \n",
       "\n",
       "            adx        dmp        dmn        rsi      slowd      slowk  target  \n",
       "0           NaN        NaN        NaN        NaN        NaN        NaN     NaN  \n",
       "1           NaN        NaN        NaN        NaN        NaN        NaN     NaN  \n",
       "2           NaN        NaN        NaN        NaN        NaN        NaN     NaN  \n",
       "3           NaN        NaN        NaN        NaN        NaN        NaN     NaN  \n",
       "4           NaN        NaN        NaN        NaN        NaN        NaN     NaN  \n",
       "...         ...        ...        ...        ...        ...        ...     ...  \n",
       "2854  30.962022  20.426220  29.580145  37.981174  72.849592  57.961397     0.0  \n",
       "2855  30.514055  19.442789  32.191568  34.901621  56.387890  36.872485     0.0  \n",
       "2856  30.315716  17.898325  31.638502  41.872859  41.892752  30.844373     0.0  \n",
       "2857  29.455416  20.300227  29.377016  44.453830  34.327923  35.266910     0.0  \n",
       "2858  28.589080  20.238414  28.721566  44.863757  37.455562  46.255403     NaN  \n",
       "\n",
       "[2859 rows x 13 columns]"
      ]
     },
     "execution_count": 173,
     "metadata": {},
     "output_type": "execute_result"
    }
   ],
   "source": [
    "import sqlite3\n",
    "import pandas as pd\n",
    "import seaborn as sns\n",
    "import matplotlib.pyplot as plt\n",
    "\n",
    "conn = sqlite3.connect('btc_megadb_short.sqlite')\n",
    "df = pd.read_sql_query(\"SELECT * from prices\", conn)\n",
    "\n",
    "df"
   ]
  },
  {
   "cell_type": "markdown",
   "id": "c5b514c9",
   "metadata": {},
   "source": [
    "Here we can see the data. There's missing values because all the technical indicators are calculated using several values of the prices, so e.g. rsi starts after 14 \"close\" -prices because of the way it's calculated. We will have to address those missing values of course. The target is when the price has risen over 10% in the last 5 days. We will modify this to be a projection of the future. \n",
    "\n",
    "My plan is to make 10 new lagged features of all the technical indicators. So the model can actually use 10 previous data points instead of just one. Let's make those features first."
   ]
  },
  {
   "cell_type": "code",
   "execution_count": 174,
   "id": "5430e8f4",
   "metadata": {},
   "outputs": [],
   "source": [
    "def make_lags(name, feature, lags):\n",
    "    return pd.concat(\n",
    "    {\n",
    "        f'{name}_lag_{i}': feature.shift(i)\n",
    "        for i in range(1, lags + 1)\n",
    "    },\n",
    "    axis = 1)\n",
    "\n",
    "df = df.join(make_lags(\"adx\", df.adx, lags=10))\n",
    "df = df.join(make_lags(\"dmp\", df.dmp, lags=10))\n",
    "df = df.join(make_lags(\"dmn\", df.dmn, lags=10))\n",
    "df = df.join(make_lags(\"rsi\", df.rsi, lags=10))\n",
    "df = df.join(make_lags(\"slowd\", df.slowd, lags=10))\n",
    "df = df.join(make_lags(\"slowk\", df.slowk, lags=10))"
   ]
  },
  {
   "cell_type": "markdown",
   "id": "a0f97be8",
   "metadata": {},
   "source": [
    "Okay now we got all the lagged features. Then because we want to target to be 5 days in the future, we need to shift the target back 5 days so we can get it in the right row."
   ]
  },
  {
   "cell_type": "code",
   "execution_count": 175,
   "id": "a24f9f15",
   "metadata": {},
   "outputs": [],
   "source": [
    "df['target'] = df['target'].shift(-10)"
   ]
  },
  {
   "cell_type": "code",
   "execution_count": 176,
   "id": "f913fdc3",
   "metadata": {},
   "outputs": [
    {
     "data": {
      "text/plain": [
       "0       1.0\n",
       "1       0.0\n",
       "2       0.0\n",
       "3       0.0\n",
       "4       0.0\n",
       "       ... \n",
       "2854    NaN\n",
       "2855    NaN\n",
       "2856    NaN\n",
       "2857    NaN\n",
       "2858    NaN\n",
       "Name: target, Length: 2859, dtype: float64"
      ]
     },
     "execution_count": 176,
     "metadata": {},
     "output_type": "execute_result"
    }
   ],
   "source": [
    "df.target"
   ]
  },
  {
   "cell_type": "markdown",
   "id": "245b8891",
   "metadata": {},
   "source": [
    "All right great! Now we just have to address the missing values. We will drop all the missing values which is going to align the columns accordingly."
   ]
  },
  {
   "cell_type": "code",
   "execution_count": 177,
   "id": "0ae628b7",
   "metadata": {},
   "outputs": [
    {
     "data": {
      "text/plain": [
       "37      0.0\n",
       "38      0.0\n",
       "39      0.0\n",
       "40      0.0\n",
       "41      0.0\n",
       "       ... \n",
       "2843    0.0\n",
       "2844    0.0\n",
       "2845    0.0\n",
       "2846    0.0\n",
       "2847    0.0\n",
       "Name: target, Length: 2811, dtype: float64"
      ]
     },
     "execution_count": 177,
     "metadata": {},
     "output_type": "execute_result"
    }
   ],
   "source": [
    "df.dropna(inplace=True)\n",
    "df.target"
   ]
  },
  {
   "cell_type": "markdown",
   "id": "1797d848",
   "metadata": {},
   "source": [
    "I've only chose technical indicators thats' variance is in a certain range because my hypothesis is that it's easier for the model to interpret those than indicators that can, in theory, get any values."
   ]
  },
  {
   "cell_type": "markdown",
   "id": "b2a65654",
   "metadata": {},
   "source": [
    "## Now the data is processed, amazing! Now we can actually start modeling!"
   ]
  },
  {
   "cell_type": "markdown",
   "id": "d80cf198",
   "metadata": {},
   "source": [
    "The target is a two-categorical variable: either the price is going to rise over 10% in the next 5 datapoints, which is marked as 1, or it is not which is marked as 0. So this model is going to be a binary classifier.\n",
    "\n",
    "Let's split the data into train and test sets."
   ]
  },
  {
   "cell_type": "code",
   "execution_count": 178,
   "id": "0915e340",
   "metadata": {},
   "outputs": [],
   "source": [
    "X = df.drop([\"name\", \"target\", \"date\", \"id\", \"close\", \"low\", \"high\"], axis=1)\n",
    "y = df[\"target\"]"
   ]
  },
  {
   "cell_type": "code",
   "execution_count": 179,
   "id": "c0552b42",
   "metadata": {},
   "outputs": [],
   "source": [
    "from sklearn.model_selection import train_test_split\n",
    "\n",
    "X_train, X_test, y_train, y_test = train_test_split(X, y, test_size=0.3, shuffle=False, random_state=42)"
   ]
  },
  {
   "cell_type": "code",
   "execution_count": 180,
   "id": "eb2f5105",
   "metadata": {},
   "outputs": [
    {
     "data": {
      "text/plain": [
       "Index(['adx', 'dmp', 'dmn', 'rsi', 'slowd', 'slowk', 'adx_lag_1', 'adx_lag_2',\n",
       "       'adx_lag_3', 'adx_lag_4', 'adx_lag_5', 'adx_lag_6', 'adx_lag_7',\n",
       "       'adx_lag_8', 'adx_lag_9', 'adx_lag_10', 'dmp_lag_1', 'dmp_lag_2',\n",
       "       'dmp_lag_3', 'dmp_lag_4', 'dmp_lag_5', 'dmp_lag_6', 'dmp_lag_7',\n",
       "       'dmp_lag_8', 'dmp_lag_9', 'dmp_lag_10', 'dmn_lag_1', 'dmn_lag_2',\n",
       "       'dmn_lag_3', 'dmn_lag_4', 'dmn_lag_5', 'dmn_lag_6', 'dmn_lag_7',\n",
       "       'dmn_lag_8', 'dmn_lag_9', 'dmn_lag_10', 'rsi_lag_1', 'rsi_lag_2',\n",
       "       'rsi_lag_3', 'rsi_lag_4', 'rsi_lag_5', 'rsi_lag_6', 'rsi_lag_7',\n",
       "       'rsi_lag_8', 'rsi_lag_9', 'rsi_lag_10', 'slowd_lag_1', 'slowd_lag_2',\n",
       "       'slowd_lag_3', 'slowd_lag_4', 'slowd_lag_5', 'slowd_lag_6',\n",
       "       'slowd_lag_7', 'slowd_lag_8', 'slowd_lag_9', 'slowd_lag_10',\n",
       "       'slowk_lag_1', 'slowk_lag_2', 'slowk_lag_3', 'slowk_lag_4',\n",
       "       'slowk_lag_5', 'slowk_lag_6', 'slowk_lag_7', 'slowk_lag_8',\n",
       "       'slowk_lag_9', 'slowk_lag_10'],\n",
       "      dtype='object')"
      ]
     },
     "execution_count": 180,
     "metadata": {},
     "output_type": "execute_result"
    }
   ],
   "source": [
    "X_train.columns"
   ]
  },
  {
   "cell_type": "markdown",
   "id": "2459bac4",
   "metadata": {},
   "source": [
    "Let's scale all our features to have a 0 average. I'ts gonna be easier for the model."
   ]
  },
  {
   "cell_type": "code",
   "execution_count": 181,
   "id": "e49a85df",
   "metadata": {},
   "outputs": [],
   "source": [
    "from sklearn.preprocessing import StandardScaler\n",
    "scaler = StandardScaler()\n",
    "X_train_scaled = scaler.fit_transform(X_train)\n",
    "X_test_scaled = scaler.transform(X_test)"
   ]
  },
  {
   "cell_type": "code",
   "execution_count": 182,
   "id": "9762c8ed",
   "metadata": {},
   "outputs": [
    {
     "name": "stdout",
     "output_type": "stream",
     "text": [
      "0.9866666666666667\n",
      "0.45\n"
     ]
    }
   ],
   "source": [
    "import keras\n",
    "from tensorflow.keras.optimizers import Adam\n",
    "from tensorflow.keras import regularizers\n",
    "from keras.regularizers import l2\n",
    "from keras.layers.core import Dropout\n",
    "from keras.wrappers.scikit_learn import KerasClassifier\n",
    "from sklearn.metrics import accuracy_score\n",
    "from sklearn.metrics import precision_score\n",
    "from xgboost import XGBClassifier\n",
    "\n",
    "model = XGBClassifier(learning_rate=0.01, n_estimators=500, max_depth=4, reg_lambda=4)\n",
    "res = model.fit(X_train_scaled, y_train)\n",
    "\n",
    "y_pred = model.predict(X_train_scaled) > 0.5\n",
    "y_test_pred = model.predict(X_test_scaled) > 0.5\n",
    "\n",
    "print(precision_score(y_train, y_pred))\n",
    "print(precision_score(y_test, y_test_pred))"
   ]
  },
  {
   "cell_type": "markdown",
   "id": "6e5d18d6",
   "metadata": {},
   "source": [
    "Little bit of trading math:\n",
    "If I would set my trading bot to have a profit target (= when the profits are enough for it to sell) and stop-loss (when the losses are too much and it would sell). Because our bot is now trying to predict 10% raise, let's set the profit target to 10%. With that profit target and 50% precision it would only need just less than -10% stop-loss to make a profit.\n",
    "\n",
    "Let's do some error analysis next and compare the predicted targets with the real targets with a confusion matrix."
   ]
  },
  {
   "cell_type": "code",
   "execution_count": 183,
   "id": "4cc62599",
   "metadata": {},
   "outputs": [
    {
     "name": "stderr",
     "output_type": "stream",
     "text": [
      "/home/olli/.local/lib/python3.8/site-packages/sklearn/utils/deprecation.py:87: FutureWarning: Function plot_confusion_matrix is deprecated; Function `plot_confusion_matrix` is deprecated in 1.0 and will be removed in 1.2. Use one of the class methods: ConfusionMatrixDisplay.from_predictions or ConfusionMatrixDisplay.from_estimator.\n",
      "  warnings.warn(msg, category=FutureWarning)\n"
     ]
    },
    {
     "data": {
      "image/png": "[encoded data removed]",
      "text/plain": [
       "<Figure size 432x288 with 2 Axes>"
      ]
     },
     "metadata": {
      "needs_background": "light"
     },
     "output_type": "display_data"
    }
   ],
   "source": [
    "from sklearn.metrics import plot_confusion_matrix\n",
    "\n",
    "plot_confusion_matrix(model, X_test_scaled, y_test)\n",
    "plt.show()"
   ]
  },
  {
   "cell_type": "markdown",
   "id": "50ab5c58",
   "metadata": {},
   "source": [
    "In the confusion matrix, you can see that even though our model has a decent precision (45%) it's still not good because it's actually predicting very rarely. The test data is ~3 years of BTC/USD price changes so it wouldn't make an incredible profit with predictions that rare.\n",
    "\n",
    "Let's test for fun how our model would do in predicting short positions in ETH/USD with 5 years of data."
   ]
  },
  {
   "cell_type": "code",
   "execution_count": 184,
   "id": "97f17039",
   "metadata": {},
   "outputs": [
    {
     "data": {
      "text/plain": [
       "0.42857142857142855"
      ]
     },
     "execution_count": 184,
     "metadata": {},
     "output_type": "execute_result"
    }
   ],
   "source": [
    "conn = sqlite3.connect('eth_megadb_short.sqlite')\n",
    "df = pd.read_sql_query(\"SELECT * from prices\", conn)\n",
    "\n",
    "df = df.join(make_lags(\"adx\", df.adx, lags=10))\n",
    "df = df.join(make_lags(\"dmp\", df.dmp, lags=10))\n",
    "df = df.join(make_lags(\"dmn\", df.dmn, lags=10))\n",
    "df = df.join(make_lags(\"rsi\", df.rsi, lags=10))\n",
    "df = df.join(make_lags(\"slowd\", df.slowd, lags=10))\n",
    "df = df.join(make_lags(\"slowk\", df.slowk, lags=10))\n",
    "\n",
    "df['target'] = df['target'].shift(-10)\n",
    "df.dropna(inplace=True)\n",
    "\n",
    "X_eth = df.drop([\"name\", \"target\", \"date\", \"id\", \"close\", \"low\", \"high\"], axis=1)\n",
    "X_eth_scaled = scaler.transform(X_eth)\n",
    "y_eth = df[\"target\"]\n",
    "\n",
    "y_eth_pred = model.predict(X_eth_scaled) > 0.5\n",
    "precision_score(y_eth, y_eth_pred)"
   ]
  },
  {
   "cell_type": "code",
   "execution_count": 185,
   "id": "53a1003e",
   "metadata": {},
   "outputs": [
    {
     "name": "stderr",
     "output_type": "stream",
     "text": [
      "/home/olli/.local/lib/python3.8/site-packages/sklearn/utils/deprecation.py:87: FutureWarning: Function plot_confusion_matrix is deprecated; Function `plot_confusion_matrix` is deprecated in 1.0 and will be removed in 1.2. Use one of the class methods: ConfusionMatrixDisplay.from_predictions or ConfusionMatrixDisplay.from_estimator.\n",
      "  warnings.warn(msg, category=FutureWarning)\n"
     ]
    },
    {
     "data": {
      "image/png": "[encoded data removed]",
      "text/plain": [
       "<Figure size 432x288 with 2 Axes>"
      ]
     },
     "metadata": {
      "needs_background": "light"
     },
     "output_type": "display_data"
    }
   ],
   "source": [
    "plot_confusion_matrix(model, X_eth_scaled, y_eth)\n",
    "plt.show()"
   ]
  },
  {
   "cell_type": "markdown",
   "id": "28249927",
   "metadata": {},
   "source": [
    "The same problem remains. Even though it's great to see that our XGBoost model does generalize to ETH/USD price changes, I would prefer it to predict a lot more often. You can see that there are actually 405 true short positions but our model only predicts 28 times."
   ]
  }
 ],
 "metadata": {
  "kernelspec": {
   "display_name": "Python 3 (ipykernel)",
   "language": "python",
   "name": "python3"
  },
  "language_info": {
   "codemirror_mode": {
    "name": "ipython",
    "version": 3
   },
   "file_extension": ".py",
   "mimetype": "text/x-python",
   "name": "python",
   "nbconvert_exporter": "python",
   "pygments_lexer": "ipython3",
   "version": "3.8.10"
  }
 },
 "nbformat": 4,
 "nbformat_minor": 5
}
